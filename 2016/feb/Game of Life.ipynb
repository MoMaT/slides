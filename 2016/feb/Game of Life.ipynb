{
 "cells": [
  {
   "cell_type": "code",
   "execution_count": 1,
   "metadata": {
    "collapsed": true
   },
   "outputs": [],
   "source": [
    "### Two Game of Life implementations that I stole\n",
    "## https://jakevdp.github.io/blog/2013/08/07/conways-game-of-life/\n",
    "\n",
    "\n",
    "\n",
    "import numpy as np\n",
    "\n",
    "def life_step_1(X):\n",
    "    \"\"\"Game of life step using generator expressions\"\"\"\n",
    "    nbrs_count = sum(np.roll(np.roll(X, i, 0), j, 1)\n",
    "                     for i in (-1, 0, 1) for j in (-1, 0, 1)\n",
    "                     if (i != 0 or j != 0))\n",
    "    return (nbrs_count == 3) | (X & (nbrs_count == 2))\n",
    "\n",
    "def life_step_2(X):\n",
    "    \"\"\"Game of life step using scipy tools\"\"\"\n",
    "    from scipy.signal import convolve2d\n",
    "    nbrs_count = convolve2d(X, np.ones((3, 3)), mode='same', boundary='wrap') - X\n",
    "    return (nbrs_count == 3) | (X & (nbrs_count == 2))\n",
    "    \n",
    "life_step = life_step_1"
   ]
  },
  {
   "cell_type": "code",
   "execution_count": 2,
   "metadata": {
    "collapsed": false
   },
   "outputs": [
    {
     "name": "stdout",
     "output_type": "stream",
     "text": [
      "Populating the interactive namespace from numpy and matplotlib\n"
     ]
    }
   ],
   "source": [
    "%pylab inline"
   ]
  },
  {
   "cell_type": "code",
   "execution_count": 3,
   "metadata": {
    "collapsed": false
   },
   "outputs": [
    {
     "ename": "ImportError",
     "evalue": "No module named JSAnimation.IPython_display",
     "output_type": "error",
     "traceback": [
      "\u001b[0;31m---------------------------------------------------------------------------\u001b[0m",
      "\u001b[0;31mImportError\u001b[0m                               Traceback (most recent call last)",
      "\u001b[0;32m<ipython-input-3-5b7422d470a2>\u001b[0m in \u001b[0;36m<module>\u001b[0;34m()\u001b[0m\n\u001b[1;32m      3\u001b[0m \u001b[0;34m\u001b[0m\u001b[0m\n\u001b[1;32m      4\u001b[0m \u001b[0;31m# JSAnimation import available at https://github.com/jakevdp/JSAnimation\u001b[0m\u001b[0;34m\u001b[0m\u001b[0;34m\u001b[0m\u001b[0m\n\u001b[0;32m----> 5\u001b[0;31m \u001b[0;32mfrom\u001b[0m \u001b[0mJSAnimation\u001b[0m\u001b[0;34m.\u001b[0m\u001b[0mIPython_display\u001b[0m \u001b[0;32mimport\u001b[0m \u001b[0mdisplay_animation\u001b[0m\u001b[0;34m,\u001b[0m \u001b[0manim_to_html\u001b[0m\u001b[0;34m\u001b[0m\u001b[0m\n\u001b[0m\u001b[1;32m      6\u001b[0m \u001b[0;32mfrom\u001b[0m \u001b[0mmatplotlib\u001b[0m \u001b[0;32mimport\u001b[0m \u001b[0manimation\u001b[0m\u001b[0;34m\u001b[0m\u001b[0m\n\u001b[1;32m      7\u001b[0m \u001b[0;34m\u001b[0m\u001b[0m\n",
      "\u001b[0;31mImportError\u001b[0m: No module named JSAnimation.IPython_display"
     ]
    }
   ],
   "source": [
    "### Animating the Game of Life using JSAnimation and Ipython (also from jakevdp)\n",
    "\n",
    "\n",
    "# JSAnimation import available at https://github.com/jakevdp/JSAnimation\n",
    "from JSAnimation.IPython_display import display_animation, anim_to_html\n",
    "from matplotlib import animation\n",
    "\n",
    "def life_animation(X, dpi=10, frames=10, interval=300, mode='loop'):\n",
    "    \"\"\"Produce a Game of Life Animation\n",
    "    \n",
    "    Parameters\n",
    "    ----------\n",
    "    X : array_like\n",
    "        a two-dimensional numpy array showing the game board\n",
    "    dpi : integer\n",
    "        the number of dots per inch in the resulting animation.\n",
    "        This controls the size of the game board on the screen\n",
    "    frames : integer\n",
    "        The number of frames to compute for the animation\n",
    "    interval : float\n",
    "        The time interval (in milliseconds) between frames\n",
    "    mode : string\n",
    "        The default mode of the animation.  Options are ['loop'|'once'|'reflect']\n",
    "    \"\"\"\n",
    "    X = np.asarray(X)\n",
    "    assert X.ndim == 2\n",
    "    X = X.astype(bool)\n",
    "    \n",
    "    X_blank = np.zeros_like(X)\n",
    "    figsize = (X.shape[1] * 1. / dpi, X.shape[0] * 1. / dpi)\n",
    "\n",
    "    fig = plt.figure(figsize=figsize, dpi=dpi)\n",
    "    ax = fig.add_axes([0, 0, 1, 1], xticks=[], yticks=[], frameon=False)\n",
    "    im = ax.imshow(X, cmap=plt.cm.binary, interpolation='nearest')\n",
    "    im.set_clim(-0.05, 1)  # Make background gray\n",
    "\n",
    "    # initialization function: plot the background of each frame\n",
    "    def init():\n",
    "        im.set_data(X_blank)\n",
    "        return (im,)\n",
    "\n",
    "    # animation function.  This is called sequentially\n",
    "    def animate(i):\n",
    "        im.set_data(animate.X)\n",
    "        animate.X = life_step(animate.X)\n",
    "        return (im,)\n",
    "    animate.X = X\n",
    "\n",
    "    anim = animation.FuncAnimation(fig, animate, init_func=init,\n",
    "                                   frames=frames, interval=interval)\n",
    "    \n",
    "    #print anim_to_html(anim)\n",
    "    return display_animation(anim, default_mode=mode)"
   ]
  },
  {
   "cell_type": "code",
   "execution_count": 4,
   "metadata": {
    "collapsed": false
   },
   "outputs": [
    {
     "ename": "NameError",
     "evalue": "name 'life_animation' is not defined",
     "output_type": "error",
     "traceback": [
      "\u001b[0;31m---------------------------------------------------------------------------\u001b[0m",
      "\u001b[0;31mNameError\u001b[0m                                 Traceback (most recent call last)",
      "\u001b[0;32m<ipython-input-4-3ebc7a93be4e>\u001b[0m in \u001b[0;36m<module>\u001b[0;34m()\u001b[0m\n\u001b[1;32m      3\u001b[0m \u001b[0mr\u001b[0m \u001b[0;34m=\u001b[0m \u001b[0mnp\u001b[0m\u001b[0;34m.\u001b[0m\u001b[0mrandom\u001b[0m\u001b[0;34m.\u001b[0m\u001b[0mrandom\u001b[0m\u001b[0;34m(\u001b[0m\u001b[0;34m(\u001b[0m\u001b[0;36m10\u001b[0m\u001b[0;34m,\u001b[0m \u001b[0;36m20\u001b[0m\u001b[0;34m)\u001b[0m\u001b[0;34m)\u001b[0m\u001b[0;34m\u001b[0m\u001b[0m\n\u001b[1;32m      4\u001b[0m \u001b[0mX\u001b[0m\u001b[0;34m[\u001b[0m\u001b[0;36m10\u001b[0m\u001b[0;34m:\u001b[0m\u001b[0;36m20\u001b[0m\u001b[0;34m,\u001b[0m \u001b[0;36m10\u001b[0m\u001b[0;34m:\u001b[0m\u001b[0;36m30\u001b[0m\u001b[0;34m]\u001b[0m \u001b[0;34m=\u001b[0m \u001b[0;34m(\u001b[0m\u001b[0mr\u001b[0m \u001b[0;34m>\u001b[0m \u001b[0;36m0.75\u001b[0m\u001b[0;34m)\u001b[0m\u001b[0;34m\u001b[0m\u001b[0m\n\u001b[0;32m----> 5\u001b[0;31m \u001b[0mlife_animation\u001b[0m\u001b[0;34m(\u001b[0m\u001b[0mX\u001b[0m\u001b[0;34m,\u001b[0m \u001b[0mdpi\u001b[0m\u001b[0;34m=\u001b[0m\u001b[0;36m10\u001b[0m\u001b[0;34m,\u001b[0m \u001b[0mframes\u001b[0m\u001b[0;34m=\u001b[0m\u001b[0;36m40\u001b[0m\u001b[0;34m,\u001b[0m \u001b[0mmode\u001b[0m\u001b[0;34m=\u001b[0m\u001b[0;34m'once'\u001b[0m\u001b[0;34m)\u001b[0m\u001b[0;34m\u001b[0m\u001b[0m\n\u001b[0m",
      "\u001b[0;31mNameError\u001b[0m: name 'life_animation' is not defined"
     ]
    }
   ],
   "source": [
    "np.random.seed(0)\n",
    "X = np.zeros((30, 40), dtype=bool)\n",
    "r = np.random.random((10, 20))\n",
    "X[10:20, 10:30] = (r > 0.75)\n",
    "life_animation(X, dpi=10, frames=40, mode='once')"
   ]
  },
  {
   "cell_type": "code",
   "execution_count": null,
   "metadata": {
    "collapsed": false
   },
   "outputs": [],
   "source": [
    "np.random.seed(0)\n",
    "X2 = np.zeros((30, 40), dtype=bool)\n",
    "r1 = np.random.random((30, 40))\n",
    "X2 = (r1 > 0.75)\n",
    "life_animation(X2, dpi=10, frames=40, mode='once')"
   ]
  },
  {
   "cell_type": "code",
   "execution_count": 12,
   "metadata": {
    "collapsed": false
   },
   "outputs": [
    {
     "data": {
      "text/plain": [
       "array([[0, 0, 0, 0, 0, 0],\n",
       "       [0, 0, 1, 0, 0, 0],\n",
       "       [0, 0, 0, 1, 1, 0],\n",
       "       [0, 0, 1, 1, 0, 0],\n",
       "       [0, 0, 0, 0, 0, 0],\n",
       "       [0, 0, 0, 0, 0, 0]])"
      ]
     },
     "execution_count": 12,
     "metadata": {},
     "output_type": "execute_result"
    }
   ],
   "source": [
    "## Another game of life implementation I stole!!\n",
    "## http://www.labri.fr/perso/nrougier/teaching/numpy/numpy.html\n",
    "\n",
    "\n",
    "## This one checks the life of each neighbour in compute_neighbours, \n",
    "## then iterates the game of life based on the number of neighbours.\n",
    "\n",
    "\n",
    "A = np.array([[0,0,0,0,0,0],\n",
    "                  [0,0,0,1,0,0],\n",
    "                  [0,1,0,1,0,0],\n",
    "                  [0,0,1,1,0,0],\n",
    "                  [0,0,0,0,0,0],\n",
    "                  [0,0,0,0,0,0]])\n",
    "\n",
    "#Z = np.zeros((6,6),dtype = int)\n",
    "\n",
    "def compute_neighbours(Z):\n",
    "    shape = len(Z), len(Z[0])\n",
    "    N  = [[0,]*(shape[0])  for i in range(shape[1])]\n",
    "    for x in range(1,shape[0]-1):\n",
    "        for y in range(1,shape[1]-1):\n",
    "            N[x][y] = Z[x-1][y-1]+Z[x][y-1]+Z[x+1][y-1] \\\n",
    "                    + Z[x-1][y]            +Z[x+1][y]   \\\n",
    "                    + Z[x-1][y+1]+Z[x][y+1]+Z[x+1][y+1]\n",
    "    return N\n",
    "\n",
    "def iterate(Z):\n",
    "    N = compute_neighbours(Z)\n",
    "    shape = len(Z), len(Z[0])\n",
    "    for x in range(1,shape[0]-1):\n",
    "        for y in range(1,shape[1]-1):\n",
    "            if Z[x][y] == 1 and (N[x][y] < 2 or N[x][y] > 3):\n",
    "                 Z[x][y] = 0\n",
    "            elif Z[x][y] == 0 and N[x][y] == 3:\n",
    "                 Z[x][y] = 1\n",
    "    return Z\n",
    "\n",
    "iterate(A)\n",
    "\n"
   ]
  },
  {
   "cell_type": "code",
   "execution_count": 13,
   "metadata": {
    "collapsed": false
   },
   "outputs": [
    {
     "name": "stdout",
     "output_type": "stream",
     "text": [
      "[[[251 218 192]\n",
      "  [251 218 192]\n",
      "  [251 218 192]\n",
      "  ..., \n",
      "  [198 143 104]\n",
      "  [198 143 104]\n",
      "  [198 143 104]]\n",
      "\n",
      " [[251 218 192]\n",
      "  [251 218 192]\n",
      "  [251 218 192]\n",
      "  ..., \n",
      "  [198 143 104]\n",
      "  [198 143 104]\n",
      "  [198 143 104]]\n",
      "\n",
      " [[251 218 192]\n",
      "  [251 218 192]\n",
      "  [251 218 192]\n",
      "  ..., \n",
      "  [199 144 105]\n",
      "  [199 144 105]\n",
      "  [199 144 105]]\n",
      "\n",
      " ..., \n",
      " [[  0  51  42]\n",
      "  [ 17  64  56]\n",
      "  [ 39  75  69]\n",
      "  ..., \n",
      "  [ 13  81  70]\n",
      "  [ 21  89  78]\n",
      "  [ 36 104  93]]\n",
      "\n",
      " [[  0  54  44]\n",
      "  [ 15  66  58]\n",
      "  [ 40  78  72]\n",
      "  ..., \n",
      "  [ 27 103  91]\n",
      "  [ 29 105  93]\n",
      "  [ 41 117 105]]\n",
      "\n",
      " [[ 13  73  63]\n",
      "  [ 23  74  66]\n",
      "  [ 32  70  64]\n",
      "  ..., \n",
      "  [ 20  96  84]\n",
      "  [ 16  92  80]\n",
      "  [ 24 100  88]]]\n"
     ]
    }
   ],
   "source": [
    "#### Using opencv...\n",
    "\n",
    "import cv2\n",
    "tree = cv2.imread(\"tree.jpg\")\n",
    "print tree"
   ]
  },
  {
   "cell_type": "code",
   "execution_count": 14,
   "metadata": {
    "collapsed": false
   },
   "outputs": [],
   "source": [
    "cv2.imshow('tree',tree)"
   ]
  },
  {
   "cell_type": "code",
   "execution_count": 15,
   "metadata": {
    "collapsed": false
   },
   "outputs": [
    {
     "data": {
      "text/plain": [
       "(640, 480, 3)"
      ]
     },
     "execution_count": 15,
     "metadata": {},
     "output_type": "execute_result"
    }
   ],
   "source": [
    "tree.shape"
   ]
  },
  {
   "cell_type": "code",
   "execution_count": 16,
   "metadata": {
    "collapsed": true
   },
   "outputs": [],
   "source": [
    "cv2.destroyAllWindows()"
   ]
  },
  {
   "cell_type": "code",
   "execution_count": 26,
   "metadata": {
    "collapsed": false
   },
   "outputs": [],
   "source": [
    "### A really basic go at using game of life to bend an image\n",
    "\n",
    "import cv2\n",
    "tree = cv2.imread(\"tree.jpg\")\n",
    "#print tree\n",
    "\n",
    "tree2 = tree\n",
    "\n",
    "tree2_red = tree2[:,:,0]\n",
    "\n",
    "tree2_green = tree2[:,:,1]\n",
    "\n",
    "tree2_blue = tree2[:,:,2]\n",
    "\n",
    "\n",
    "tree_of_life_red = (tree[:,:,0]<130)\n",
    "\n",
    "tree_of_life_blue = (tree[:,:,2]<130)\n",
    "\n",
    "tree_of_life_green = (tree[:,:,1]<130)\n",
    "\n",
    "for i in range(30):\n",
    "    \n",
    "    cv2.destroyAllWindows()\n",
    "    \n",
    "    cv2.imshow('tree',tree2)\n",
    "    \n",
    "    for i in range(10):\n",
    "        tree_of_life_red = life_step(tree_of_life_red)\n",
    "\n",
    "        tree2_red[tree_of_life_red] = 255 - tree[:,:,0][tree_of_life_red]\n",
    "\n",
    "        tree_of_life_blue = life_step(tree_of_life_blue)\n",
    "\n",
    "        tree2_blue[tree_of_life_blue] = 255 - tree[:,:,2][tree_of_life_blue]\n",
    "\n",
    "        tree_of_life_green = life_step(tree_of_life_green)\n",
    "\n",
    "        tree2_blue[tree_of_life_green] = 255 - tree[:,:,1][tree_of_life_green]\n",
    "    \n",
    "    \n",
    "    \n",
    "\n"
   ]
  },
  {
   "cell_type": "code",
   "execution_count": 27,
   "metadata": {
    "collapsed": true
   },
   "outputs": [],
   "source": [
    "cv2.destroyAllWindows()"
   ]
  },
  {
   "cell_type": "code",
   "execution_count": null,
   "metadata": {
    "collapsed": false
   },
   "outputs": [],
   "source": [
    "cv2.imwrite('newtree2.jpg',tree2)"
   ]
  }
 ],
 "metadata": {
  "kernelspec": {
   "display_name": "Python 2",
   "language": "python",
   "name": "python2"
  },
  "language_info": {
   "codemirror_mode": {
    "name": "ipython",
    "version": 2
   },
   "file_extension": ".py",
   "mimetype": "text/x-python",
   "name": "python",
   "nbconvert_exporter": "python",
   "pygments_lexer": "ipython2",
   "version": "2.7.11"
  }
 },
 "nbformat": 4,
 "nbformat_minor": 0
}
